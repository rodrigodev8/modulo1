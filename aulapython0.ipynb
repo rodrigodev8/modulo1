{
  "nbformat": 4,
  "nbformat_minor": 0,
  "metadata": {
    "colab": {
      "provenance": []
    },
    "kernelspec": {
      "name": "python3",
      "display_name": "Python 3"
    },
    "language_info": {
      "name": "python"
    }
  },
  "cells": [
    {
      "cell_type": "code",
      "execution_count": 1,
      "metadata": {
        "colab": {
          "base_uri": "https://localhost:8080/"
        },
        "id": "X0kSvqqztzhU",
        "outputId": "31b44529-8f1e-44c6-d801-b564e2df4efd"
      },
      "outputs": [
        {
          "output_type": "stream",
          "name": "stdout",
          "text": [
            "Olá, arquivo teste\n"
          ]
        }
      ],
      "source": [
        "print (\"Olá, arquivo teste\")"
      ]
    }
  ]
}